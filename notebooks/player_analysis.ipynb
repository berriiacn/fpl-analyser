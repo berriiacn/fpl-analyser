{
 "cells": [
  {
   "cell_type": "code",
   "execution_count": 5,
   "id": "898e7b1f",
   "metadata": {},
   "outputs": [
    {
     "data": {
      "application/vnd.microsoft.datawrangler.viewer.v0+json": {
       "columns": [
        {
         "name": "index",
         "rawType": "int64",
         "type": "integer"
        },
        {
         "name": "web_name",
         "rawType": "object",
         "type": "string"
        },
        {
         "name": "total_points",
         "rawType": "int64",
         "type": "integer"
        },
        {
         "name": "now_cost",
         "rawType": "int64",
         "type": "integer"
        },
        {
         "name": "minutes",
         "rawType": "int64",
         "type": "integer"
        }
       ],
       "ref": "0d211cce-92f9-4f31-8988-54e262418aaf",
       "rows": [
        [
         "386",
         "M.Salah",
         "344",
         "145",
         "3374"
        ],
        [
         "438",
         "Mbeumo",
         "236",
         "80",
         "3415"
        ],
        [
         "234",
         "Palmer",
         "214",
         "105",
         "3193"
        ],
        [
         "506",
         "Isak",
         "211",
         "105",
         "2758"
        ],
        [
         "533",
         "Wood",
         "200",
         "75",
         "2958"
        ],
        [
         "636",
         "Bowen",
         "193",
         "80",
         "2974"
        ],
        [
         "65",
         "Watkins",
         "186",
         "90",
         "2593"
        ],
        [
         "172",
         "Wissa",
         "185",
         "75",
         "2921"
        ],
        [
         "388",
         "Luis Díaz",
         "183",
         "80",
         "2393"
        ],
        [
         "437",
         "Haaland",
         "181",
         "140",
         "2736"
        ]
       ],
       "shape": {
        "columns": 4,
        "rows": 10
       }
      },
      "text/html": [
       "<div>\n",
       "<style scoped>\n",
       "    .dataframe tbody tr th:only-of-type {\n",
       "        vertical-align: middle;\n",
       "    }\n",
       "\n",
       "    .dataframe tbody tr th {\n",
       "        vertical-align: top;\n",
       "    }\n",
       "\n",
       "    .dataframe thead th {\n",
       "        text-align: right;\n",
       "    }\n",
       "</style>\n",
       "<table border=\"1\" class=\"dataframe\">\n",
       "  <thead>\n",
       "    <tr style=\"text-align: right;\">\n",
       "      <th></th>\n",
       "      <th>web_name</th>\n",
       "      <th>total_points</th>\n",
       "      <th>now_cost</th>\n",
       "      <th>minutes</th>\n",
       "    </tr>\n",
       "  </thead>\n",
       "  <tbody>\n",
       "    <tr>\n",
       "      <th>386</th>\n",
       "      <td>M.Salah</td>\n",
       "      <td>344</td>\n",
       "      <td>145</td>\n",
       "      <td>3374</td>\n",
       "    </tr>\n",
       "    <tr>\n",
       "      <th>438</th>\n",
       "      <td>Mbeumo</td>\n",
       "      <td>236</td>\n",
       "      <td>80</td>\n",
       "      <td>3415</td>\n",
       "    </tr>\n",
       "    <tr>\n",
       "      <th>234</th>\n",
       "      <td>Palmer</td>\n",
       "      <td>214</td>\n",
       "      <td>105</td>\n",
       "      <td>3193</td>\n",
       "    </tr>\n",
       "    <tr>\n",
       "      <th>506</th>\n",
       "      <td>Isak</td>\n",
       "      <td>211</td>\n",
       "      <td>105</td>\n",
       "      <td>2758</td>\n",
       "    </tr>\n",
       "    <tr>\n",
       "      <th>533</th>\n",
       "      <td>Wood</td>\n",
       "      <td>200</td>\n",
       "      <td>75</td>\n",
       "      <td>2958</td>\n",
       "    </tr>\n",
       "    <tr>\n",
       "      <th>636</th>\n",
       "      <td>Bowen</td>\n",
       "      <td>193</td>\n",
       "      <td>80</td>\n",
       "      <td>2974</td>\n",
       "    </tr>\n",
       "    <tr>\n",
       "      <th>65</th>\n",
       "      <td>Watkins</td>\n",
       "      <td>186</td>\n",
       "      <td>90</td>\n",
       "      <td>2593</td>\n",
       "    </tr>\n",
       "    <tr>\n",
       "      <th>172</th>\n",
       "      <td>Wissa</td>\n",
       "      <td>185</td>\n",
       "      <td>75</td>\n",
       "      <td>2921</td>\n",
       "    </tr>\n",
       "    <tr>\n",
       "      <th>388</th>\n",
       "      <td>Luis Díaz</td>\n",
       "      <td>183</td>\n",
       "      <td>80</td>\n",
       "      <td>2393</td>\n",
       "    </tr>\n",
       "    <tr>\n",
       "      <th>437</th>\n",
       "      <td>Haaland</td>\n",
       "      <td>181</td>\n",
       "      <td>140</td>\n",
       "      <td>2736</td>\n",
       "    </tr>\n",
       "  </tbody>\n",
       "</table>\n",
       "</div>"
      ],
      "text/plain": [
       "      web_name  total_points  now_cost  minutes\n",
       "386    M.Salah           344       145     3374\n",
       "438     Mbeumo           236        80     3415\n",
       "234     Palmer           214       105     3193\n",
       "506       Isak           211       105     2758\n",
       "533       Wood           200        75     2958\n",
       "636      Bowen           193        80     2974\n",
       "65     Watkins           186        90     2593\n",
       "172      Wissa           185        75     2921\n",
       "388  Luis Díaz           183        80     2393\n",
       "437    Haaland           181       140     2736"
      ]
     },
     "execution_count": 5,
     "metadata": {},
     "output_type": "execute_result"
    }
   ],
   "source": [
    "import json\n",
    "import pandas as pd\n",
    "\n",
    "with open('../data/bootstrap_static.json') as f:\n",
    "    data = json.load(f)\n",
    "\n",
    "players_df = pd.DataFrame(data['elements'])\n",
    "teams_df = pd.DataFrame(data['teams'])\n",
    "\n",
    "# Example: Top 10 players by total points\n",
    "players_df[['web_name', 'total_points', 'now_cost', 'minutes']].sort_values(by='total_points', ascending=False).head(10)\n"
   ]
  }
 ],
 "metadata": {
  "kernelspec": {
   "display_name": ".venv",
   "language": "python",
   "name": "python3"
  },
  "language_info": {
   "codemirror_mode": {
    "name": "ipython",
    "version": 3
   },
   "file_extension": ".py",
   "mimetype": "text/x-python",
   "name": "python",
   "nbconvert_exporter": "python",
   "pygments_lexer": "ipython3",
   "version": "3.13.5"
  }
 },
 "nbformat": 4,
 "nbformat_minor": 5
}
